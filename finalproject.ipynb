{
  "cells": [
    {
      "cell_type": "markdown",
      "metadata": {
        "id": "view-in-github",
        "colab_type": "text"
      },
      "source": [
        "<a href=\"https://colab.research.google.com/github/kpatel34/Week5Demo/blob/master/finalproject.ipynb\" target=\"_parent\"><img src=\"https://colab.research.google.com/assets/colab-badge.svg\" alt=\"Open In Colab\"/></a>"
      ]
    },
    {
      "cell_type": "code",
      "execution_count": 1,
      "metadata": {
        "id": "oMKoV8bs1MgL"
      },
      "outputs": [],
      "source": [
        "# from google.colab import drive"
      ]
    },
    {
      "cell_type": "code",
      "execution_count": 2,
      "metadata": {
        "id": "rDUeKB1g1S0u"
      },
      "outputs": [],
      "source": [
        "#drive.mount('/content/drive', force_remount=True)\n",
        "#%cd /content/drive/My\\Drive/FinalAstroProject"
      ]
    },
    {
      "cell_type": "code",
      "execution_count": 3,
      "metadata": {
        "id": "-AWO-ZCw2gvZ",
        "outputId": "1bb6fc91-0470-4a8e-a266-e7f64427fc13",
        "colab": {
          "base_uri": "https://localhost:8080/"
        }
      },
      "outputs": [
        {
          "output_type": "stream",
          "name": "stdout",
          "text": [
            "BXPegLong_SigClip2pass.csv  \u001b[0m\u001b[01;34mdrive\u001b[0m/  \u001b[01;34msample_data\u001b[0m/\n"
          ]
        }
      ],
      "source": [
        "#%ls"
      ]
    },
    {
      "cell_type": "markdown",
      "metadata": {
        "id": "T_4ptzrk2eiy"
      },
      "source": []
    },
    {
      "cell_type": "code",
      "execution_count": 9,
      "metadata": {
        "id": "5qD_Hg2R1ub8",
        "outputId": "4b103cbd-162a-4f03-8c90-185889109ecf",
        "colab": {
          "base_uri": "https://localhost:8080/"
        }
      },
      "outputs": [
        {
          "output_type": "stream",
          "name": "stdout",
          "text": [
            "            Time   Magnitude\n",
            "0     2457565.615      10.72\n",
            "1     2457565.627      10.64\n",
            "2     2457565.637      10.68\n",
            "3     2457565.649      10.69\n",
            "4     2457565.659      10.60\n",
            "...           ...        ...\n",
            "3231  2459159.682      10.83\n",
            "3232  2459159.683      10.84\n",
            "3233  2459159.684      10.84\n",
            "3234  2459159.685      10.83\n",
            "3235  2459159.685      10.84\n",
            "\n",
            "[3236 rows x 2 columns]\n"
          ]
        }
      ],
      "source": [
        "import pandas as pd\n",
        "\n",
        "df_data = pd.read_csv('BXPegLong_SigClip2pass.csv')\n",
        "print(df)"
      ]
    },
    {
      "cell_type": "code",
      "execution_count": 10,
      "metadata": {
        "id": "JTKXYa1w2Gqv"
      },
      "outputs": [],
      "source": [
        "#from __future__ import print_function\n",
        "from scipy import stats\n",
        "import numpy as np\n",
        "import matplotlib.pyplot as plt\n",
        "from scipy.optimize import curve_fit"
      ]
    },
    {
      "cell_type": "code",
      "source": [
        "def func(x, H, A, x0, sigma):\n",
        "    return H + A * np.exp(-(x - x0) ** 2 / (2 * sigma ** 2))"
      ],
      "metadata": {
        "id": "6jYMkL6n-s_i"
      },
      "execution_count": 11,
      "outputs": []
    },
    {
      "cell_type": "code",
      "source": [],
      "metadata": {
        "id": "l3oi_572_zO6"
      },
      "execution_count": null,
      "outputs": []
    }
  ],
  "metadata": {
    "colab": {
      "provenance": [],
      "authorship_tag": "ABX9TyPhfRGWRg84aiPq8etJPoDe",
      "include_colab_link": true
    },
    "kernelspec": {
      "display_name": "Python 3",
      "name": "python3"
    },
    "language_info": {
      "name": "python"
    }
  },
  "nbformat": 4,
  "nbformat_minor": 0
}